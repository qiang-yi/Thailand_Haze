{
 "cells": [
  {
   "cell_type": "markdown",
   "metadata": {},
   "source": [
    "# Analyze PM2.5 and PM10 data"
   ]
  },
  {
   "cell_type": "code",
   "execution_count": 1,
   "metadata": {},
   "outputs": [],
   "source": [
    "import geopandas as gpd\n",
    "import geoplot\n",
    "import numpy as np\n",
    "import pandas as pd\n",
    "import calendar\n",
    "\n",
    "import matplotlib.pyplot as plt\n",
    "from matplotlib import cm as cm\n",
    "from matplotlib import mlab as ml\n",
    "from matplotlib import gridspec\n",
    "\n",
    "\n",
    "import seaborn as sns\n",
    "\n",
    "plt.ion() # turn on interactive plotting\n",
    "plt.rcParams['figure.figsize'] = [20, 15] # enlarge the default plotting size\n",
    "\n",
    "from sklearn.neighbors import KernelDensity\n",
    "\n",
    "from mpl_toolkits.basemap import Basemap\n",
    "\n",
    "\n",
    "table_path=\"I:/Thailand_Haze/tables/\"\n",
    "fire_path=\"I:/Thailand_Haze/fire_data/\"\n",
    "gis_path=\"I:/Thailand_Haze/GIS_data/\""
   ]
  },
  {
   "cell_type": "markdown",
   "metadata": {},
   "source": [
    "## Read and process data"
   ]
  },
  {
   "cell_type": "markdown",
   "metadata": {},
   "source": [
    "Read the excel file"
   ]
  },
  {
   "cell_type": "code",
   "execution_count": 2,
   "metadata": {},
   "outputs": [],
   "source": [
    "PM10_36T = pd.read_excel(table_path+'PM.xlsx', sheet_name='36T_PM10').replace(-99, np.nan)\n",
    "PM10_35T = pd.read_excel(table_path+'PM.xlsx', sheet_name='35T_PM10').replace(-99, np.nan)\n",
    "PM25_36T = pd.read_excel(table_path+'PM.xlsx', sheet_name='36T_PM2.5').replace(-99, np.nan)\n",
    "PM25_35T = pd.read_excel(table_path+'PM.xlsx', sheet_name='35T_PM2.5').replace(-99, np.nan)"
   ]
  },
  {
   "cell_type": "markdown",
   "metadata": {},
   "source": [
    "Convert the table from wide to long (melt)"
   ]
  },
  {
   "cell_type": "code",
   "execution_count": 3,
   "metadata": {},
   "outputs": [],
   "source": [
    "PM10_36T = pd.melt(PM10_36T, id_vars=['Month', 'Day'], value_vars=list(range(1995, 2020,1))).rename(columns={\"variable\": \"year\"})\n",
    "PM10_35T = pd.melt(PM10_35T, id_vars=['Month', 'Day'], value_vars=list(range(1995, 2020,1))).rename(columns={\"variable\": \"year\"})\n",
    "PM25_36T = pd.melt(PM25_36T, id_vars=['Month', 'Day'], value_vars=list(range(2004, 2020,1))).rename(columns={\"variable\": \"year\"})\n",
    "PM25_35T = pd.melt(PM25_35T, id_vars=['Month', 'Day'], value_vars=list(range(2016, 2020,1))).rename(columns={\"variable\": \"year\"})"
   ]
  },
  {
   "cell_type": "markdown",
   "metadata": {},
   "source": [
    "Create datetime field"
   ]
  },
  {
   "cell_type": "code",
   "execution_count": 4,
   "metadata": {},
   "outputs": [],
   "source": [
    "non_leap_years = ['2-29-1995','2-29-1997','2-29-1998','2-29-1999','2-29-2001','2-29-2002','2-29-2003','2-29-2005','2-29-2006','2-29-2007','2-29-2009','2-29-2010','2-29-2011','2-29-2012','2-29-2013','2-29-2014','2-29-2015','2-29-2017','2-29-2018','2-29-2019']\n",
    "PM10_36T['date_time'] = PM10_36T['Month'].astype(str) +\"-\"+ PM10_36T['Day'].astype(str)  +\"-\"+ PM10_36T['year'].astype(str) \n",
    "PM10_35T['date_time'] = PM10_35T['Month'].astype(str) +\"-\"+ PM10_35T['Day'].astype(str)  +\"-\"+ PM10_35T['year'].astype(str)\n",
    "PM25_36T['date_time'] = PM25_36T['Month'].astype(str) +\"-\"+ PM25_36T['Day'].astype(str)  +\"-\"+ PM25_36T['year'].astype(str) \n",
    "PM25_35T['date_time'] = PM25_35T['Month'].astype(str) +\"-\"+ PM25_35T['Day'].astype(str)  +\"-\"+ PM25_35T['year'].astype(str) \n",
    "\n",
    "PM10_36T = PM10_36T[~PM10_36T['date_time'].isin(non_leap_years)]\n",
    "PM10_35T = PM10_35T[~PM10_35T['date_time'].isin(non_leap_years)]\n",
    "PM25_36T = PM25_36T[~PM25_36T['date_time'].isin(non_leap_years)]\n",
    "PM25_35T = PM25_35T[~PM25_35T['date_time'].isin(non_leap_years)]\n",
    "\n",
    "PM10_36T['date_time']= pd.to_datetime(PM10_36T['date_time'])\n",
    "PM10_35T['date_time']= pd.to_datetime(PM10_35T['date_time'])\n",
    "PM25_36T['date_time']= pd.to_datetime(PM25_36T['date_time'])\n",
    "PM25_35T['date_time']= pd.to_datetime(PM25_35T['date_time'])"
   ]
  },
  {
   "cell_type": "markdown",
   "metadata": {},
   "source": [
    "\n",
    "### Thresholds for polluted days: \n",
    "- PM2.5: \n",
    "    - Thailand standard: absolute concentration > 50 for 24 h average \n",
    "    - US standard: absolute concentration > 25 for 24 h average\n",
    "- PM10:\n",
    "    - Thailand standard: absolute concentration > 120 for 24 h average \n",
    "    - US standard: absolute concentration > 50 for 24 h average "
   ]
  },
  {
   "cell_type": "markdown",
   "metadata": {},
   "source": [
    "### Plot total polluted days by year"
   ]
  },
  {
   "cell_type": "markdown",
   "metadata": {},
   "source": [
    "Select days above the thresholds"
   ]
  },
  {
   "cell_type": "code",
   "execution_count": 5,
   "metadata": {},
   "outputs": [],
   "source": [
    "# Thailand standard\n",
    "PM10_36T_pl_th = PM10_36T[PM10_36T['value']>120]\n",
    "PM10_35T_pl_th = PM10_35T[PM10_35T['value']>120]\n",
    "\n",
    "PM25_36T_pl_th = PM25_36T[PM25_36T['value']>50]\n",
    "PM25_35T_pl_th = PM25_35T[PM25_35T['value']>50]\n",
    "\n",
    "# US standard\n",
    "PM10_36T_pl_us = PM10_36T[PM10_36T['value']>50]\n",
    "PM10_35T_pl_us = PM10_35T[PM10_35T['value']>50]\n",
    "\n",
    "PM25_36T_pl_us = PM25_36T[PM25_36T['value']>25]\n",
    "PM25_35T_pl_us = PM25_35T[PM25_35T['value']>25]\n",
    "\n",
    "# All days with data\n",
    "PM10_36T_all = PM10_36T[~np.isnan(PM10_36T['value'])]\n",
    "PM10_35T_all = PM10_35T[~np.isnan(PM10_35T['value'])]\n",
    "PM25_36T_all = PM25_36T[~np.isnan(PM25_36T['value'])]\n",
    "PM25_35T_all = PM25_35T[~np.isnan(PM25_35T['value'])]"
   ]
  },
  {
   "cell_type": "markdown",
   "metadata": {},
   "source": [
    "Organize the counts of polluted days (> thresholds) in a dataframe"
   ]
  },
  {
   "cell_type": "code",
   "execution_count": 6,
   "metadata": {},
   "outputs": [
    {
     "ename": "NameError",
     "evalue": "name 'year_ls_pm10' is not defined",
     "output_type": "error",
     "traceback": [
      "\u001b[1;31m---------------------------------------------------------------------------\u001b[0m",
      "\u001b[1;31mNameError\u001b[0m                                 Traceback (most recent call last)",
      "\u001b[1;32m<ipython-input-6-93674ebc2e8b>\u001b[0m in \u001b[0;36m<module>\u001b[1;34m\u001b[0m\n\u001b[0;32m      1\u001b[0m \u001b[1;31m# Plot PM 10 bar chart\u001b[0m\u001b[1;33m\u001b[0m\u001b[1;33m\u001b[0m\u001b[1;33m\u001b[0m\u001b[0m\n\u001b[1;32m----> 2\u001b[1;33m \u001b[0mx_pos_35T\u001b[0m\u001b[1;33m=\u001b[0m\u001b[0mnp\u001b[0m\u001b[1;33m.\u001b[0m\u001b[0marange\u001b[0m\u001b[1;33m(\u001b[0m\u001b[0mlen\u001b[0m\u001b[1;33m(\u001b[0m\u001b[0myear_ls_pm10\u001b[0m\u001b[1;33m)\u001b[0m\u001b[1;33m)\u001b[0m\u001b[1;33m\u001b[0m\u001b[1;33m\u001b[0m\u001b[0m\n\u001b[0m\u001b[0;32m      3\u001b[0m \u001b[0mx_pos_36T\u001b[0m\u001b[1;33m=\u001b[0m\u001b[0mnp\u001b[0m\u001b[1;33m.\u001b[0m\u001b[0marange\u001b[0m\u001b[1;33m(\u001b[0m\u001b[0mlen\u001b[0m\u001b[1;33m(\u001b[0m\u001b[0myear_ls_pm10\u001b[0m\u001b[1;33m)\u001b[0m\u001b[1;33m)\u001b[0m \u001b[1;33m+\u001b[0m \u001b[0mw\u001b[0m\u001b[1;33m\u001b[0m\u001b[1;33m\u001b[0m\u001b[0m\n\u001b[0;32m      4\u001b[0m \u001b[1;33m\u001b[0m\u001b[0m\n\u001b[0;32m      5\u001b[0m \u001b[1;31m# Count pollutated days regarding PM10\u001b[0m\u001b[1;33m\u001b[0m\u001b[1;33m\u001b[0m\u001b[1;33m\u001b[0m\u001b[0m\n",
      "\u001b[1;31mNameError\u001b[0m: name 'year_ls_pm10' is not defined"
     ]
    }
   ],
   "source": [
    "# Plot PM 10 bar chart\n",
    "#x_pos_35T=np.arange(len(year_ls_pm10))\n",
    "#x_pos_36T=np.arange(len(year_ls_pm10)) + w\n",
    "\n",
    "# Count pollutated days regarding PM10\n",
    "PM10_36T_pl_th_y = PM10_36T_pl_th.groupby(PM10_36T_pl_th['date_time'].dt.year)['date_time'].count()\n",
    "PM10_35T_pl_th_y = PM10_35T_pl_th.groupby(PM10_35T_pl_th['date_time'].dt.year)['date_time'].count()\n",
    "PM10_36T_pl_us_y = PM10_36T_pl_us.groupby(PM10_36T_pl_us['date_time'].dt.year)['date_time'].count()\n",
    "PM10_35T_pl_us_y = PM10_35T_pl_us.groupby(PM10_35T_pl_us['date_time'].dt.year)['date_time'].count()\n",
    "\n",
    "# Count pollutated days regarding PM2.5\n",
    "PM25_36T_pl_th_y = PM25_36T_pl_th.groupby(PM25_36T_pl_th['date_time'].dt.year)['date_time'].count()\n",
    "PM25_35T_pl_th_y = PM25_35T_pl_th.groupby(PM25_35T_pl_th['date_time'].dt.year)['date_time'].count()\n",
    "PM25_36T_pl_us_y = PM25_36T_pl_us.groupby(PM25_36T_pl_us['date_time'].dt.year)['date_time'].count()\n",
    "PM25_35T_pl_us_y = PM25_35T_pl_us.groupby(PM25_35T_pl_us['date_time'].dt.year)['date_time'].count()\n",
    "\n",
    "# Count days with data\n",
    "PM10_36T_all_y = PM10_36T_all.groupby(PM10_36T_all['date_time'].dt.year)['date_time'].count()\n",
    "PM10_35T_all_y = PM10_35T_all.groupby(PM10_35T_all['date_time'].dt.year)['date_time'].count()\n",
    "PM25_36T_all_y = PM25_36T_all.groupby(PM25_36T_all['date_time'].dt.year)['date_time'].count()\n",
    "PM25_35T_all_y = PM25_35T_all.groupby(PM25_35T_all['date_time'].dt.year)['date_time'].count()\n",
    "\n",
    "PM_df = pd.concat([PM10_36T_pl_th_y,PM10_35T_pl_th_y,PM10_36T_pl_us_y,PM10_35T_pl_us_y,PM25_36T_pl_th_y,PM25_35T_pl_th_y,PM25_36T_pl_us_y,PM25_35T_pl_us_y,PM10_36T_all_y,PM10_35T_all_y,PM25_36T_all_y,PM25_35T_all_y], axis=1)\n",
    "PM_df.columns=[\"PM10_36T_th\",\"PM10_35T_th\",\"PM10_36T_us\",\"PM10_35T_us\",\"PM25_36T_th\",\"PM25_35T_th\",\"PM25_36T_us\",\"PM25_35T_us\",\"PM10_36T_all\",\"PM10_35T_all\",\"PM25_36T_all\",\"PM25_35T_all\"]\n",
    "PM_df = PM_df.reset_index().rename(columns={'date_time':'year'})\n",
    "\n",
    "PM_df['PM10_36T_th_R']=PM_df['PM10_36T_th']/PM_df['PM10_36T_all']\n",
    "PM_df['PM10_35T_th_R']=PM_df['PM10_35T_th']/PM_df['PM10_35T_all']\n",
    "PM_df['PM10_36T_us_R']=PM_df['PM10_36T_us']/PM_df['PM10_36T_all']\n",
    "PM_df['PM10_35T_us_R']=PM_df['PM10_35T_us']/PM_df['PM10_35T_all']\n",
    "\n",
    "PM_df['PM25_36T_th_R']=PM_df['PM25_36T_th']/PM_df['PM25_36T_all']\n",
    "PM_df['PM25_35T_th_R']=PM_df['PM25_35T_th']/PM_df['PM25_35T_all']\n",
    "PM_df['PM25_36T_us_R']=PM_df['PM25_36T_us']/PM_df['PM25_36T_all']\n",
    "PM_df['PM25_35T_us_R']=PM_df['PM25_35T_us']/PM_df['PM25_35T_all']"
   ]
  },
  {
   "cell_type": "markdown",
   "metadata": {},
   "source": [
    "# Analysis by Year"
   ]
  },
  {
   "cell_type": "markdown",
   "metadata": {},
   "source": [
    "### Total pollutated days per year (PM10)"
   ]
  },
  {
   "cell_type": "code",
   "execution_count": null,
   "metadata": {
    "scrolled": false
   },
   "outputs": [],
   "source": [
    "year_ls = list(PM_df['year'])\n",
    "#color_ls = ['grey']*len(year_ls)\n",
    "#color_ls[10]='red'\n",
    "\n",
    "plt.rcParams['figure.figsize'] = [15, 10] # enlarge the default plotting size\n",
    "#plt.bar(x_pos_35T, PM10_35T_pl_th, color='r', align='center', alpha=0.5,width=w)\n",
    "#plt.bar(x_pos_36T, PM10_36T_pl_th, color='b', align='center', alpha=0.5,width=w)\n",
    "\n",
    "plt.plot(year_ls, PM_df['PM10_35T_th'], marker=\"o\", color='#3498DB', linewidth=3, alpha=0.9, label='PM10 35T (TH)')\n",
    "plt.plot(year_ls, PM_df['PM10_36T_th'], marker=\"o\", color='b', linewidth=3, alpha=0.9, label='PM10 36T (TH)')\n",
    "plt.plot(year_ls, PM_df['PM10_35T_us'], marker=\"o\", color='#58D68D', linewidth=3, alpha=0.9, label='PM10 35T (US)')\n",
    "plt.plot(year_ls, PM_df['PM10_36T_us'], marker=\"o\", color='#0B5345', linewidth=3, alpha=0.9, label='PM10 36T (US)')\n",
    "\n",
    "# Add legend\n",
    "plt.legend(loc='upper right')\n",
    "\n",
    "plt.xticks(year_ls, year_ls,rotation=90)\n",
    "plt.ylabel('Number of fire points')\n",
    "plt.xlabel('Year')\n",
    "plt.title('Total polluted days (PM10) per year', loc='Center', fontsize=20, fontweight=0)\n",
    "\n",
    "plt.show()"
   ]
  },
  {
   "cell_type": "markdown",
   "metadata": {},
   "source": [
    "### Ratio of pollutated days per year (PM10)"
   ]
  },
  {
   "cell_type": "code",
   "execution_count": null,
   "metadata": {},
   "outputs": [],
   "source": [
    "year_ls = list(PM_df['year'])\n",
    "#color_ls = ['grey']*len(year_ls)\n",
    "#color_ls[10]='red'\n",
    "\n",
    "plt.rcParams['figure.figsize'] = [15, 10] # enlarge the default plotting size\n",
    "#plt.bar(x_pos_35T, PM10_35T_pl_th, color='r', align='center', alpha=0.5,width=w)\n",
    "#plt.bar(x_pos_36T, PM10_36T_pl_th, color='b', align='center', alpha=0.5,width=w)\n",
    "\n",
    "plt.plot(year_ls, PM_df['PM10_35T_th_R'], marker=\"o\", color='#3498DB', linewidth=3, alpha=0.9, label='PM10 35T (TH)')\n",
    "plt.plot(year_ls, PM_df['PM10_36T_th_R'], marker=\"o\", color='b', linewidth=3, alpha=0.9, label='PM10 36T (TH)')\n",
    "plt.plot(year_ls, PM_df['PM10_35T_us_R'], marker=\"o\", color='#58D68D', linewidth=3, alpha=0.9, label='PM10 35T (US)')\n",
    "plt.plot(year_ls, PM_df['PM10_36T_us_R'], marker=\"o\", color='#0B5345', linewidth=3, alpha=0.9, label='PM10 36T (US)')\n",
    "\n",
    "# Add legend\n",
    "plt.legend(loc='upper right')\n",
    "\n",
    "plt.xticks(year_ls, year_ls,rotation=90)\n",
    "plt.ylabel('Polluted days')\n",
    "plt.xlabel('Year')\n",
    "plt.title('Total polluted days (PM10) per year', loc='Center', fontsize=20, fontweight=0)\n",
    "\n",
    "plt.show()"
   ]
  },
  {
   "cell_type": "markdown",
   "metadata": {},
   "source": [
    "### Total pollutated days per year (PM2.5)"
   ]
  },
  {
   "cell_type": "code",
   "execution_count": null,
   "metadata": {},
   "outputs": [],
   "source": [
    "color_ls = ['grey']*len(year_ls)\n",
    "#color_ls[10]='red'\n",
    "\n",
    "plt.rcParams['figure.figsize'] = [15, 10] # enlarge the default plotting size\n",
    "#plt.bar(x_pos_35T, PM10_35T_pl_th, color='r', align='center', alpha=0.5,width=w)\n",
    "#plt.bar(x_pos_36T, PM10_36T_pl_th, color='b', align='center', alpha=0.5,width=w)\n",
    "\n",
    "plt.plot(year_ls[9:], PM_df['PM25_35T_th'][9:], marker=\"o\", color='#3498DB', linewidth=3, alpha=0.9, label='PM2.5 35T (TH)')\n",
    "plt.plot(year_ls[9:], PM_df['PM25_36T_th'][9:], marker=\"o\", color='b', linewidth=3, alpha=0.9, label='PM2.5 36T (TH)')\n",
    "plt.plot(year_ls[9:], PM_df['PM25_35T_us'][9:], marker=\"o\", color='#58D68D', linewidth=3, alpha=0.9, label='PM2.5 35T (US)')\n",
    "plt.plot(year_ls[9:], PM_df['PM25_36T_us'][9:], marker=\"o\", color='#0B5345', linewidth=3, alpha=0.9, label='PM2.5 36T (US)')\n",
    "\n",
    "# Add legend\n",
    "plt.legend(loc='upper right')\n",
    "\n",
    "plt.xticks(year_ls[9:], year_ls[9:],rotation=90)\n",
    "plt.ylabel('Polluted days')\n",
    "plt.xlabel('Year')\n",
    "plt.title('Total polluted days (PM2.5) per year', loc='Center', fontsize=20, fontweight=0)\n",
    "\n",
    "plt.show()"
   ]
  },
  {
   "cell_type": "markdown",
   "metadata": {},
   "source": [
    "### Ratio of pollutated days per year (PM2.5)"
   ]
  },
  {
   "cell_type": "code",
   "execution_count": null,
   "metadata": {
    "scrolled": false
   },
   "outputs": [],
   "source": [
    "#color_ls = ['grey']*len(year_ls)\n",
    "#color_ls[10]='red'\n",
    "\n",
    "plt.rcParams['figure.figsize'] = [15, 10] # enlarge the default plotting size\n",
    "#plt.bar(x_pos_35T, PM10_35T_pl_th, color='r', align='center', alpha=0.5,width=w)\n",
    "#plt.bar(x_pos_36T, PM10_36T_pl_th, color='b', align='center', alpha=0.5,width=w)\n",
    "\n",
    "plt.plot(year_ls[9:], PM_df['PM25_35T_th_R'][9:], marker=\"o\", color='#3498DB', linewidth=3, alpha=0.9, label='PM2.5 35T (TH)')\n",
    "plt.plot(year_ls[9:], PM_df['PM25_36T_th_R'][9:], marker=\"o\", color='b', linewidth=3, alpha=0.9, label='PM2.5 36T (TH)')\n",
    "plt.plot(year_ls[9:], PM_df['PM25_35T_us_R'][9:], marker=\"o\", color='#58D68D', linewidth=3, alpha=0.9, label='PM2.5 35T (US)')\n",
    "plt.plot(year_ls[9:], PM_df['PM25_36T_us_R'][9:], marker=\"o\", color='#0B5345', linewidth=3, alpha=0.9, label='PM2.5 36T (US)')\n",
    "\n",
    "# Add legend\n",
    "plt.legend(loc='upper right')\n",
    "\n",
    "plt.xticks(year_ls[9:], year_ls[9:],rotation=90)\n",
    "plt.ylabel('Polluted days')\n",
    "plt.xlabel('Year')\n",
    "plt.title('Ratio of polluted days (PM2.5) per year', loc='Center', fontsize=20, fontweight=0)\n",
    "\n",
    "plt.show()"
   ]
  },
  {
   "cell_type": "markdown",
   "metadata": {},
   "source": [
    "# Montly Analysis"
   ]
  },
  {
   "cell_type": "code",
   "execution_count": null,
   "metadata": {},
   "outputs": [],
   "source": [
    "# Plot PM 10 bar chart\n",
    "x_pos_35T=np.arange(len(year_ls_pm10))\n",
    "x_pos_36T=np.arange(len(year_ls_pm10)) + w\n",
    "\n",
    "# Count pollutated days regarding PM10\n",
    "PM10_36T_pl_th_m = PM10_36T_pl_th.groupby(PM10_36T_pl_th['date_time'].dt.month)['date_time'].count()\n",
    "PM10_35T_pl_th_m = PM10_35T_pl_th.groupby(PM10_35T_pl_th['date_time'].dt.month)['date_time'].count()\n",
    "PM10_36T_pl_us_m = PM10_36T_pl_us.groupby(PM10_36T_pl_us['date_time'].dt.month)['date_time'].count()\n",
    "PM10_35T_pl_us_m = PM10_35T_pl_us.groupby(PM10_35T_pl_us['date_time'].dt.month)['date_time'].count()\n",
    "\n",
    "# Count pollutated days regarding PM2.5\n",
    "PM25_36T_pl_th_m = PM25_36T_pl_th.groupby(PM25_36T_pl_th['date_time'].dt.month)['date_time'].count()\n",
    "PM25_35T_pl_th_m = PM25_35T_pl_th.groupby(PM25_35T_pl_th['date_time'].dt.month)['date_time'].count()\n",
    "PM25_36T_pl_us_m = PM25_36T_pl_us.groupby(PM25_36T_pl_us['date_time'].dt.month)['date_time'].count()\n",
    "PM25_35T_pl_us_m = PM25_35T_pl_us.groupby(PM25_35T_pl_us['date_time'].dt.month)['date_time'].count()\n",
    "\n",
    "# Count days with data\n",
    "PM10_36T_all_m = PM10_36T_all.groupby(PM10_36T_all['date_time'].dt.month)['date_time'].count()\n",
    "PM10_35T_all_m = PM10_35T_all.groupby(PM10_35T_all['date_time'].dt.month)['date_time'].count()\n",
    "PM25_36T_all_m = PM25_36T_all.groupby(PM25_36T_all['date_time'].dt.month)['date_time'].count()\n",
    "PM25_35T_all_m = PM25_35T_all.groupby(PM25_35T_all['date_time'].dt.month)['date_time'].count()\n",
    "\n",
    "PM_df_m = pd.concat([PM10_36T_pl_th_m,PM10_35T_pl_th_m,PM10_36T_pl_us_m,PM10_35T_pl_us_m,PM25_36T_pl_th_m,PM25_35T_pl_th_m,PM25_36T_pl_us_m,PM25_35T_pl_us_m,PM10_36T_all_m,PM10_35T_all_m,PM25_36T_all_m,PM25_35T_all_m], axis=1)\n",
    "PM_df_m.columns=[\"PM10_36T_th\",\"PM10_35T_th\",\"PM10_36T_us\",\"PM10_35T_us\",\"PM25_36T_th\",\"PM25_35T_th\",\"PM25_36T_us\",\"PM25_35T_us\",\"PM10_36T_all\",\"PM10_35T_all\",\"PM25_36T_all\",\"PM25_35T_all\"]\n",
    "PM_df_m = PM_df_m.reset_index().rename(columns={'date_time':'month'})\n",
    "\n",
    "PM_df_m['PM10_36T_th_R']=PM_df_m['PM10_36T_th']/PM_df_m['PM10_36T_all']\n",
    "PM_df_m['PM10_35T_th_R']=PM_df_m['PM10_35T_th']/PM_df_m['PM10_35T_all']\n",
    "PM_df_m['PM10_36T_us_R']=PM_df_m['PM10_36T_us']/PM_df_m['PM10_36T_all']\n",
    "PM_df_m['PM10_35T_us_R']=PM_df_m['PM10_35T_us']/PM_df_m['PM10_35T_all']\n",
    "\n",
    "PM_df_m['PM25_36T_th_R']=PM_df_m['PM25_36T_th']/PM_df_m['PM25_36T_all']\n",
    "PM_df_m['PM25_35T_th_R']=PM_df_m['PM25_35T_th']/PM_df_m['PM25_35T_all']\n",
    "PM_df_m['PM25_36T_us_R']=PM_df_m['PM25_36T_us']/PM_df_m['PM25_36T_all']\n",
    "PM_df_m['PM25_35T_us_R']=PM_df_m['PM25_35T_us']/PM_df_m['PM25_35T_all']"
   ]
  },
  {
   "cell_type": "markdown",
   "metadata": {},
   "source": [
    "### Total pollutated days per month (PM10)"
   ]
  },
  {
   "cell_type": "code",
   "execution_count": null,
   "metadata": {},
   "outputs": [],
   "source": [
    "month_ls_m = list(PM_df_m['month'])\n",
    "#color_ls = ['grey']*len(year_ls)\n",
    "#color_ls[10]='red'\n",
    "\n",
    "plt.rcParams['figure.figsize'] = [15, 10] # enlarge the default plotting size\n",
    "#plt.bar(x_pos_35T, PM10_35T_pl_th, color='r', align='center', alpha=0.5,width=w)\n",
    "#plt.bar(x_pos_36T, PM10_36T_pl_th, color='b', align='center', alpha=0.5,width=w)\n",
    "\n",
    "plt.plot(month_ls_m, PM_df_m['PM10_35T_th'], marker=\"o\", color='#3498DB', linewidth=3, alpha=0.9, label='PM10 35T (TH)')\n",
    "plt.plot(month_ls_m, PM_df_m['PM10_36T_th'], marker=\"o\", color='b', linewidth=3, alpha=0.9, label='PM10 36T (TH)')\n",
    "plt.plot(month_ls_m, PM_df_m['PM10_35T_us'], marker=\"o\", color='#58D68D', linewidth=3, alpha=0.9, label='PM10 35T (US)')\n",
    "plt.plot(month_ls_m, PM_df_m['PM10_36T_us'], marker=\"o\", color='#0B5345', linewidth=3, alpha=0.9, label='PM10 36T (US)')\n",
    "\n",
    "# Add legend\n",
    "plt.legend(loc='upper right')\n",
    "\n",
    "plt.xticks(month_ls_m, month_ls_m,rotation=90)\n",
    "plt.ylabel('Polluted days')\n",
    "plt.xlabel('Month')\n",
    "plt.title('Total polluted days (PM10) by month', loc='Center', fontsize=20, fontweight=0)\n",
    "\n",
    "plt.show()"
   ]
  },
  {
   "cell_type": "markdown",
   "metadata": {},
   "source": [
    "### Total pollutated days per month (PM2.5)"
   ]
  },
  {
   "cell_type": "code",
   "execution_count": null,
   "metadata": {
    "scrolled": false
   },
   "outputs": [],
   "source": [
    "month_ls_m = list(PM_df_m['month'])\n",
    "#color_ls = ['grey']*len(year_ls)\n",
    "#color_ls[10]='red'\n",
    "\n",
    "plt.rcParams['figure.figsize'] = [15, 10] # enlarge the default plotting size\n",
    "#plt.bar(x_pos_35T, PM10_35T_pl_th, color='r', align='center', alpha=0.5,width=w)\n",
    "#plt.bar(x_pos_36T, PM10_36T_pl_th, color='b', align='center', alpha=0.5,width=w)\n",
    "\n",
    "plt.plot(month_ls_m, PM_df_m['PM25_35T_th'], marker=\"o\", color='#3498DB', linewidth=3, alpha=0.9, label='PM2.5 35T (TH)')\n",
    "plt.plot(month_ls_m, PM_df_m['PM25_36T_th'], marker=\"o\", color='b', linewidth=3, alpha=0.9, label='PM2.5 36T (TH)')\n",
    "plt.plot(month_ls_m, PM_df_m['PM25_35T_us'], marker=\"o\", color='#58D68D', linewidth=3, alpha=0.9, label='PM2.5 35T (US)')\n",
    "plt.plot(month_ls_m, PM_df_m['PM25_36T_us'], marker=\"o\", color='#0B5345', linewidth=3, alpha=0.9, label='PM2.5 36T (US)')\n",
    "\n",
    "# Add legend\n",
    "plt.legend(loc='upper right')\n",
    "\n",
    "plt.xticks(month_ls_m, month_ls_m,rotation=90)\n",
    "plt.ylabel('Polluted days')\n",
    "plt.xlabel('Month')\n",
    "plt.title('Total polluted days (PM2.5) by month', loc='Center', fontsize=20, fontweight=0)\n",
    "\n",
    "plt.show()"
   ]
  },
  {
   "cell_type": "markdown",
   "metadata": {},
   "source": [
    "### Ratio of pollutated days per month (PM10)"
   ]
  },
  {
   "cell_type": "code",
   "execution_count": null,
   "metadata": {},
   "outputs": [],
   "source": [
    "month_ls_m = list(PM_df_m['month'])\n",
    "#color_ls = ['grey']*len(year_ls)\n",
    "#color_ls[10]='red'\n",
    "\n",
    "plt.rcParams['figure.figsize'] = [15, 10] # enlarge the default plotting size\n",
    "#plt.bar(x_pos_35T, PM10_35T_pl_th, color='r', align='center', alpha=0.5,width=w)\n",
    "#plt.bar(x_pos_36T, PM10_36T_pl_th, color='b', align='center', alpha=0.5,width=w)\n",
    "\n",
    "plt.plot(month_ls_m, PM_df_m['PM10_35T_th_R'], marker=\"o\", color='#3498DB', linewidth=3, alpha=0.9, label='PM10 35T (TH)')\n",
    "plt.plot(month_ls_m, PM_df_m['PM10_36T_th_R'], marker=\"o\", color='b', linewidth=3, alpha=0.9, label='PM10 36T (TH)')\n",
    "plt.plot(month_ls_m, PM_df_m['PM10_35T_us_R'], marker=\"o\", color='#58D68D', linewidth=3, alpha=0.9, label='PM10 35T (US)')\n",
    "plt.plot(month_ls_m, PM_df_m['PM10_36T_us_R'], marker=\"o\", color='#0B5345', linewidth=3, alpha=0.9, label='PM10 36T (US)')\n",
    "\n",
    "# Add legend\n",
    "plt.legend(loc='upper right')\n",
    "\n",
    "plt.xticks(month_ls_m, month_ls_m,rotation=90)\n",
    "plt.ylabel('Ratio of polluted days')\n",
    "plt.xlabel('Month')\n",
    "plt.title('Ratios of polluted days (PM10) by month', loc='Center', fontsize=20, fontweight=0)\n",
    "\n",
    "plt.show()"
   ]
  },
  {
   "cell_type": "markdown",
   "metadata": {},
   "source": [
    "### Ratio of pollutated days per month (PM2.5)"
   ]
  },
  {
   "cell_type": "code",
   "execution_count": null,
   "metadata": {},
   "outputs": [],
   "source": [
    "month_ls_m = list(PM_df_m['month'])\n",
    "#color_ls = ['grey']*len(year_ls)\n",
    "#color_ls[10]='red'\n",
    "\n",
    "plt.rcParams['figure.figsize'] = [15, 10] # enlarge the default plotting size\n",
    "#plt.bar(x_pos_35T, PM10_35T_pl_th, color='r', align='center', alpha=0.5,width=w)\n",
    "#plt.bar(x_pos_36T, PM10_36T_pl_th, color='b', align='center', alpha=0.5,width=w)\n",
    "\n",
    "plt.plot(month_ls_m, PM_df_m['PM25_35T_th_R'], marker=\"o\", color='#3498DB', linewidth=3, alpha=0.9, label='PM2.5 35T (TH)')\n",
    "plt.plot(month_ls_m, PM_df_m['PM25_36T_th_R'], marker=\"o\", color='b', linewidth=3, alpha=0.9, label='PM2.5 36T (TH)')\n",
    "plt.plot(month_ls_m, PM_df_m['PM25_35T_us_R'], marker=\"o\", color='#58D68D', linewidth=3, alpha=0.9, label='PM2.5 35T (US)')\n",
    "plt.plot(month_ls_m, PM_df_m['PM25_36T_us_R'], marker=\"o\", color='#0B5345', linewidth=3, alpha=0.9, label='PM2.5 36T (US)')\n",
    "\n",
    "# Add legend\n",
    "plt.legend(loc='upper right')\n",
    "\n",
    "plt.xticks(month_ls_m, month_ls_m,rotation=90)\n",
    "plt.ylabel('Ratio of polluted days')\n",
    "plt.xlabel('Month')\n",
    "plt.title('Ratio of polluted days (PM2.5) by month', loc='Center', fontsize=20, fontweight=0)\n",
    "\n",
    "plt.show()"
   ]
  },
  {
   "cell_type": "markdown",
   "metadata": {},
   "source": [
    "## Change of ratio of polluted days in different years"
   ]
  },
  {
   "cell_type": "markdown",
   "metadata": {},
   "source": [
    "Organize the data"
   ]
  },
  {
   "cell_type": "code",
   "execution_count": null,
   "metadata": {},
   "outputs": [],
   "source": [
    "# Count polluted days \n",
    "PM10_36T_th_my = PM10_36T_pl_th.groupby([PM10_36T_pl_th['date_time'].dt.month,PM10_36T_pl_th['date_time'].dt.year])['date_time'].count()\n",
    "PM10_35T_th_my = PM10_35T_pl_th.groupby([PM10_35T_pl_th['date_time'].dt.month,PM10_35T_pl_th['date_time'].dt.year])['date_time'].count()\n",
    "PM25_36T_th_my = PM25_36T_pl_th.groupby([PM25_36T_pl_th['date_time'].dt.month,PM25_36T_pl_th['date_time'].dt.year])['date_time'].count()\n",
    "PM25_35T_th_my = PM25_35T_pl_th.groupby([PM25_35T_pl_th['date_time'].dt.month,PM25_35T_pl_th['date_time'].dt.year])['date_time'].count()\n",
    "\n",
    "PM10_36T_us_my = PM10_36T_pl_us.groupby([PM10_36T_pl_us['date_time'].dt.month,PM10_36T_pl_us['date_time'].dt.year])['date_time'].count()\n",
    "PM10_35T_us_my = PM10_35T_pl_us.groupby([PM10_35T_pl_us['date_time'].dt.month,PM10_35T_pl_us['date_time'].dt.year])['date_time'].count()\n",
    "PM25_36T_us_my = PM25_36T_pl_us.groupby([PM25_36T_pl_us['date_time'].dt.month,PM25_36T_pl_us['date_time'].dt.year])['date_time'].count()\n",
    "PM25_35T_us_my = PM25_35T_pl_us.groupby([PM25_35T_pl_us['date_time'].dt.month,PM25_35T_pl_us['date_time'].dt.year])['date_time'].count()\n",
    "\n",
    "# Count all measured days \n",
    "PM10_36T_all_my = PM10_36T_all.groupby([PM10_36T_all['date_time'].dt.month,PM10_36T_all['date_time'].dt.year])['date_time'].count()\n",
    "PM10_35T_all_my = PM10_35T_all.groupby([PM10_35T_all['date_time'].dt.month,PM10_35T_all['date_time'].dt.year])['date_time'].count()\n",
    "PM25_36T_all_my = PM25_36T_all.groupby([PM25_36T_all['date_time'].dt.month,PM25_36T_all['date_time'].dt.year])['date_time'].count()\n",
    "PM25_35T_all_my = PM25_35T_all.groupby([PM25_35T_all['date_time'].dt.month,PM25_35T_all['date_time'].dt.year])['date_time'].count()"
   ]
  },
  {
   "cell_type": "code",
   "execution_count": null,
   "metadata": {},
   "outputs": [],
   "source": [
    "# Convert the counts to data frame\n",
    "PM10_36T_th_my = PM10_36T_th_my.rename_axis([\"month\",'year'], axis=\"index\")\n",
    "PM10_35T_th_my = PM10_35T_th_my.rename_axis([\"month\",'year'], axis=\"index\")\n",
    "PM25_36T_th_my = PM25_36T_th_my.rename_axis([\"month\",'year'], axis=\"index\")\n",
    "PM25_35T_th_my = PM25_35T_th_my.rename_axis([\"month\",'year'], axis=\"index\")\n",
    "\n",
    "PM10_36T_us_my = PM10_36T_us_my.rename_axis([\"month\",'year'], axis=\"index\")\n",
    "PM10_35T_us_my = PM10_35T_us_my.rename_axis([\"month\",'year'], axis=\"index\")\n",
    "PM25_36T_us_my = PM25_36T_us_my.rename_axis([\"month\",'year'], axis=\"index\")\n",
    "PM25_35T_us_my = PM25_35T_us_my.rename_axis([\"month\",'year'], axis=\"index\")\n",
    "\n",
    "PM10_36T_all_my = PM10_36T_all_my.rename_axis([\"month\",'year'], axis=\"index\")\n",
    "PM10_35T_all_my = PM10_35T_all_my.rename_axis([\"month\",'year'], axis=\"index\")\n",
    "PM25_36T_all_my = PM25_36T_all_my.rename_axis([\"month\",'year'], axis=\"index\")\n",
    "PM25_35T_all_my = PM25_35T_all_my.rename_axis([\"month\",'year'], axis=\"index\")"
   ]
  },
  {
   "cell_type": "code",
   "execution_count": null,
   "metadata": {},
   "outputs": [],
   "source": [
    "PM_df_my = pd.concat([PM10_36T_th_my,PM10_35T_th_my,PM10_36T_us_my,PM10_35T_us_my,PM25_36T_th_my,PM25_35T_th_my,PM25_36T_us_my,PM25_35T_us_my,PM10_36T_all_my,PM10_35T_all_my,PM25_36T_all_my,PM25_35T_all_my], axis=1)\n",
    "PM_df_my.columns=[\"PM10_36T_th\",\"PM10_35T_th\",\"PM10_36T_us\",\"PM10_35T_us\",\"PM25_36T_th\",\"PM25_35T_th\",\"PM25_36T_us\",\"PM25_35T_us\",\"PM10_36T_all\",\"PM10_35T_all\",\"PM25_36T_all\",\"PM25_35T_all\"]\n",
    "PM_df_my = PM_df_my.reset_index().fillna(0)\n",
    "\n",
    "PM_df_my['PM10_36T_th_R']=PM_df_my['PM10_36T_th']/PM_df_my['PM10_36T_all']\n",
    "PM_df_my['PM10_35T_th_R']=PM_df_my['PM10_35T_th']/PM_df_my['PM10_35T_all']\n",
    "PM_df_my['PM10_36T_us_R']=PM_df_my['PM10_36T_us']/PM_df_my['PM10_36T_all']\n",
    "PM_df_my['PM10_35T_us_R']=PM_df_my['PM10_35T_us']/PM_df_my['PM10_35T_all']\n",
    "\n",
    "PM_df_my['PM25_36T_th_R']=PM_df_my['PM25_36T_th']/PM_df_my['PM25_36T_all']\n",
    "PM_df_my['PM25_35T_th_R']=PM_df_my['PM25_35T_th']/PM_df_my['PM25_35T_all']\n",
    "PM_df_my['PM25_36T_us_R']=PM_df_my['PM25_36T_us']/PM_df_my['PM25_36T_all']\n",
    "PM_df_my['PM25_35T_us_R']=PM_df_my['PM25_35T_us']/PM_df_my['PM25_35T_all']"
   ]
  },
  {
   "cell_type": "code",
   "execution_count": null,
   "metadata": {},
   "outputs": [],
   "source": []
  },
  {
   "cell_type": "markdown",
   "metadata": {},
   "source": [
    "### Ratio of pollutated days in each month in different years (PM10 at Station 35T)"
   ]
  },
  {
   "cell_type": "code",
   "execution_count": null,
   "metadata": {
    "scrolled": false
   },
   "outputs": [],
   "source": [
    "year_ls = list(PM_df_my['year'].unique())\n",
    "year_ls.sort()\n",
    "\n",
    "# style\n",
    "plt.style.use('seaborn-darkgrid')\n",
    " \n",
    "# create a color palette\n",
    "palette = plt.get_cmap('Paired')\n",
    " \n",
    "# multiple line plot\n",
    "num=0\n",
    "\n",
    "for mon in list(PM_df_my['month'].unique()):\n",
    "    y = PM_df_my[PM_df_my['month'] == mon]['PM10_35T_th_R']\n",
    "    x = PM_df_my[PM_df_my['month'] == mon]['year']\n",
    "\n",
    "    plt.plot(x, y, marker='', color=palette(num), linewidth=3, alpha=0.9, label=calendar.month_abbr[mon])\n",
    "    num+=1\n",
    "    \n",
    "# Add legend\n",
    "plt.legend(loc='upper right')\n",
    "\n",
    "plt.xticks(year_ls, year_ls,rotation=90)\n",
    "plt.ylabel('Ratio of polluted days')\n",
    "plt.xlabel('Month')\n",
    "plt.title('Total polluted days (PM2.5) by month', loc='Center', fontsize=20, fontweight=0)\n"
   ]
  },
  {
   "cell_type": "markdown",
   "metadata": {},
   "source": [
    "### Ratio of pollutated days in each month in different years (PM10 at Station 36T)"
   ]
  },
  {
   "cell_type": "code",
   "execution_count": null,
   "metadata": {},
   "outputs": [],
   "source": [
    "year_ls = list(PM_df_my['year'].unique())\n",
    "year_ls.sort()\n",
    "\n",
    "# style\n",
    "plt.style.use('seaborn-darkgrid')\n",
    " \n",
    "# create a color palette\n",
    "palette = plt.get_cmap('Paired')\n",
    " \n",
    "# multiple line plot\n",
    "num=0\n",
    "\n",
    "for mon in list(PM_df_my['month'].unique()):\n",
    "    y = PM_df_my[PM_df_my['month'] == mon]['PM10_36T_th_R']\n",
    "    x = PM_df_my[PM_df_my['month'] == mon]['year']\n",
    "\n",
    "    plt.plot(x, y, marker='', color=palette(num), linewidth=3, alpha=0.9, label=calendar.month_abbr[mon])\n",
    "    num+=1\n",
    "    \n",
    "# Add legend\n",
    "plt.legend(loc='upper right')\n",
    "\n",
    "plt.xticks(year_ls, year_ls,rotation=90)\n",
    "plt.ylabel('Ratio of polluted days')\n",
    "plt.xlabel('Month')\n",
    "plt.title('Total polluted days (PM2.5) by month', loc='Center', fontsize=20, fontweight=0)\n"
   ]
  }
 ],
 "metadata": {
  "kernelspec": {
   "display_name": "Python 3",
   "language": "python",
   "name": "python3"
  },
  "language_info": {
   "codemirror_mode": {
    "name": "ipython",
    "version": 3
   },
   "file_extension": ".py",
   "mimetype": "text/x-python",
   "name": "python",
   "nbconvert_exporter": "python",
   "pygments_lexer": "ipython3",
   "version": "3.7.3"
  }
 },
 "nbformat": 4,
 "nbformat_minor": 2
}
